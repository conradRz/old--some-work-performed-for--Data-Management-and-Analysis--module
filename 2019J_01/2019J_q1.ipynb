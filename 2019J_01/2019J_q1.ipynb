{
 "cells": [
  {
   "attachments": {},
   "cell_type": "markdown",
   "metadata": {},
   "source": [
    "# [ANONYMISED]"
   ]
  },
  {
   "attachments": {},
   "cell_type": "markdown",
   "metadata": {},
   "source": [
    "**Name**: Konrad Rzucidlo\n",
    "\n",
    "**PI**: [ANONYMISED]"
   ]
  },
  {
   "attachments": {},
   "cell_type": "markdown",
   "metadata": {},
   "source": [
    "Investigation of a dataset of consumption of wine from the UK Government wine cellar, which is used to support the work of Government Hospitality in delivering business hospitality for government ministers and departments."
   ]
  },
  {
   "cell_type": "code",
   "execution_count": 1,
   "metadata": {
    "code_folding": []
   },
   "outputs": [],
   "source": [
    "# This cell imports standard libraries needed for notebook.\n",
    "\n",
    "import pandas as pd\n",
    "import chardet\n",
    "import matplotlib.pyplot as plt"
   ]
  },
  {
   "attachments": {},
   "cell_type": "markdown",
   "metadata": {},
   "source": [
    "#### Contents"
   ]
  },
  {
   "attachments": {},
   "cell_type": "markdown",
   "metadata": {},
   "source": [
    "[Data provenance, and importing the data](#provenance)\n",
    "\n",
    "[Cleaning the data sets](#cleaning)\n",
    "\n",
    "[Visualising the data](#visualising)"
   ]
  },
  {
   "attachments": {},
   "cell_type": "markdown",
   "metadata": {},
   "source": [
    "## <a id='provenance'></a>Data provenance, and importing the data"
   ]
  },
  {
   "attachments": {},
   "cell_type": "markdown",
   "metadata": {},
   "source": [
    "#### 1. Licensing for the wine cellar datasets"
   ]
  },
  {
   "attachments": {},
   "cell_type": "markdown",
   "metadata": {},
   "source": [
    "The two datasets are stored as csv files called `Annex_B_-_Wine_Cellar_Stock-list_data_07_07_15.csv` and `Wine_Cellar_Consumption_dataset_14-15.csv` in the `data` directory. \n",
    "\n",
    "These datasets were obtained from the UK government data portal:\n",
    "\n",
    "http://data.gov.uk\n",
    "\n",
    "on 18th April, 2019. The files contains Government information licensed under the [Open Government Licence v3.0](http://www.nationalarchives.gov.uk/doc/open-government-licence/version/3/).\n"
   ]
  },
  {
   "attachments": {},
   "cell_type": "markdown",
   "metadata": {},
   "source": [
    "Find the terms of this license, and state:\n",
    "1. the specific clauses of the licence which allow the OU to distribute the data to you, and\n",
    "2. the obligations that the licence places upon the OU when distributing the data.\n",
    "\n",
    "*(2 marks)*\n"
   ]
  },
  {
   "attachments": {},
   "cell_type": "markdown",
   "metadata": {
    "hide_input": false
   },
   "source": [
    "<p><strong>Write your answer in this markdown cell</strong></p>\n",
    "\n",
    "<p>1. To follow the section &quot;You are free to:&quot; while adhering to the condition set in &quot;You must (where you do any of the above):&quot; while the data itself is not breaking any rule under &quot;Exemptions&quot; section of the licence document.</p>\n",
    "\n",
    "<p>2. The OU had to provide a specific attribution statement, which they did in the line &quot;<em>on 18th April, 2019. The files contains Government information licensed under the <a href=\"http://www.nationalarchives.gov.uk/doc/open-government-licence/version/3/\" target=\"_blank\">Open Government Licence v3.0</a>.</em>&quot;. The OU also provided a hyperlink to a resource that contains the required attribution statements, although both the hyperlink and the quoted previously statement are not necessary. Either one or the other is enough. Also, the OU shall and followed &quot;Non-endorsement&quot; section.</p>\n"
   ]
  },
  {
   "attachments": {},
   "cell_type": "markdown",
   "metadata": {},
   "source": [
    "#### 2. Importing the datasets"
   ]
  },
  {
   "cell_type": "code",
   "execution_count": 3,
   "metadata": {},
   "outputs": [
    {
     "data": {
      "text/plain": [
       "{'confidence': 0.73, 'encoding': 'Windows-1252', 'language': ''}"
      ]
     },
     "execution_count": 3,
     "metadata": {},
     "output_type": "execute_result"
    }
   ],
   "source": [
    "# 1.check encoding\n",
    "stocklist_raw_data = open('data/Annex_B_-_Wine_Cellar_Stock-list_data_07_07_15.csv','rb').read()\n",
    "chardet.detect( stocklist_raw_data )"
   ]
  },
  {
   "cell_type": "code",
   "execution_count": 4,
   "metadata": {},
   "outputs": [],
   "source": [
    "# 2. load it\n",
    "stocklist_df = pd.read_csv('data/Annex_B_-_Wine_Cellar_Stock-list_data_07_07_15.csv', encoding = 'windows-1252')"
   ]
  },
  {
   "cell_type": "code",
   "execution_count": 5,
   "metadata": {},
   "outputs": [
    {
     "data": {
      "text/html": [
       "<div>\n",
       "<style scoped>\n",
       "    .dataframe tbody tr th:only-of-type {\n",
       "        vertical-align: middle;\n",
       "    }\n",
       "\n",
       "    .dataframe tbody tr th {\n",
       "        vertical-align: top;\n",
       "    }\n",
       "\n",
       "    .dataframe thead th {\n",
       "        text-align: right;\n",
       "    }\n",
       "</style>\n",
       "<table border=\"1\" class=\"dataframe\">\n",
       "  <thead>\n",
       "    <tr style=\"text-align: right;\">\n",
       "      <th></th>\n",
       "      <th>Country/Region</th>\n",
       "      <th>Vintage</th>\n",
       "      <th>Product Name</th>\n",
       "      <th>Grade</th>\n",
       "    </tr>\n",
       "  </thead>\n",
       "  <tbody>\n",
       "    <tr>\n",
       "      <th>0</th>\n",
       "      <td>Bordeaux</td>\n",
       "      <td>1955</td>\n",
       "      <td>Château Latour 1955 1er Cru Classé Pauillac</td>\n",
       "      <td>A1</td>\n",
       "    </tr>\n",
       "    <tr>\n",
       "      <th>1</th>\n",
       "      <td>Bordeaux</td>\n",
       "      <td>1961</td>\n",
       "      <td>Château Gruaud-Larose 1961 2me Cru Classé St J...</td>\n",
       "      <td>A1</td>\n",
       "    </tr>\n",
       "    <tr>\n",
       "      <th>2</th>\n",
       "      <td>Bordeaux</td>\n",
       "      <td>1961</td>\n",
       "      <td>Château Latour 1961 1er Cru Classé Pauillac</td>\n",
       "      <td>A1</td>\n",
       "    </tr>\n",
       "    <tr>\n",
       "      <th>3</th>\n",
       "      <td>Bordeaux</td>\n",
       "      <td>1961</td>\n",
       "      <td>Château Margaux 1961 1er Cru Classé Margaux</td>\n",
       "      <td>A1</td>\n",
       "    </tr>\n",
       "    <tr>\n",
       "      <th>4</th>\n",
       "      <td>Bordeaux</td>\n",
       "      <td>1962</td>\n",
       "      <td>Château Latour 1962 1er Cru Classé Pauillac</td>\n",
       "      <td>A</td>\n",
       "    </tr>\n",
       "  </tbody>\n",
       "</table>\n",
       "</div>"
      ],
      "text/plain": [
       "  Country/Region Vintage                                       Product Name  \\\n",
       "0       Bordeaux    1955        Château Latour 1955 1er Cru Classé Pauillac   \n",
       "1       Bordeaux    1961  Château Gruaud-Larose 1961 2me Cru Classé St J...   \n",
       "2       Bordeaux    1961        Château Latour 1961 1er Cru Classé Pauillac   \n",
       "3       Bordeaux    1961        Château Margaux 1961 1er Cru Classé Margaux   \n",
       "4       Bordeaux    1962        Château Latour 1962 1er Cru Classé Pauillac   \n",
       "\n",
       "  Grade  \n",
       "0    A1  \n",
       "1    A1  \n",
       "2    A1  \n",
       "3    A1  \n",
       "4     A  "
      ]
     },
     "execution_count": 5,
     "metadata": {},
     "output_type": "execute_result"
    }
   ],
   "source": [
    "# 3. disaply the preview\n",
    "stocklist_df[:5]"
   ]
  },
  {
   "attachments": {},
   "cell_type": "markdown",
   "metadata": {},
   "source": [
    "Import the file `Wine_Cellar_Consumption_dataset_14-15.csv` into a dataframe named `consumption_df`."
   ]
  },
  {
   "cell_type": "code",
   "execution_count": 6,
   "metadata": {
    "hide_input": false
   },
   "outputs": [
    {
     "data": {
      "text/plain": [
       "{'confidence': 0.73, 'encoding': 'Windows-1252', 'language': ''}"
      ]
     },
     "execution_count": 6,
     "metadata": {},
     "output_type": "execute_result"
    }
   ],
   "source": [
    "# 1.check encoding\n",
    "consumption_raw_data = open('data/Wine_Cellar_Consumption_dataset_14-15.csv','rb').read()\n",
    "chardet.detect( consumption_raw_data )"
   ]
  },
  {
   "cell_type": "code",
   "execution_count": 7,
   "metadata": {},
   "outputs": [],
   "source": [
    "# 2. load it\n",
    "consumption_df = pd.read_csv('data/Wine_Cellar_Consumption_dataset_14-15.csv', encoding = 'windows-1252')"
   ]
  },
  {
   "cell_type": "code",
   "execution_count": 8,
   "metadata": {},
   "outputs": [
    {
     "data": {
      "text/html": [
       "<div>\n",
       "<style scoped>\n",
       "    .dataframe tbody tr th:only-of-type {\n",
       "        vertical-align: middle;\n",
       "    }\n",
       "\n",
       "    .dataframe tbody tr th {\n",
       "        vertical-align: top;\n",
       "    }\n",
       "\n",
       "    .dataframe thead th {\n",
       "        text-align: right;\n",
       "    }\n",
       "</style>\n",
       "<table border=\"1\" class=\"dataframe\">\n",
       "  <thead>\n",
       "    <tr style=\"text-align: right;\">\n",
       "      <th></th>\n",
       "      <th>Country/Region</th>\n",
       "      <th>Vintage</th>\n",
       "      <th>Product name</th>\n",
       "      <th>Consumption April 2014 - March 2015</th>\n",
       "    </tr>\n",
       "  </thead>\n",
       "  <tbody>\n",
       "    <tr>\n",
       "      <th>0</th>\n",
       "      <td>ALSACE</td>\n",
       "      <td>2001</td>\n",
       "      <td>Riesling Wineck-Schlossberg, Meyer-Fonne 2001</td>\n",
       "      <td>8</td>\n",
       "    </tr>\n",
       "    <tr>\n",
       "      <th>1</th>\n",
       "      <td>ALSACE</td>\n",
       "      <td>2007</td>\n",
       "      <td>Alsace Pinot Gris Les Elements, Dom. Bott Geyl...</td>\n",
       "      <td>6</td>\n",
       "    </tr>\n",
       "    <tr>\n",
       "      <th>2</th>\n",
       "      <td>ALSACE</td>\n",
       "      <td>2007</td>\n",
       "      <td>Alsace Riesling Domaine Marcel Deiss 2007</td>\n",
       "      <td>4</td>\n",
       "    </tr>\n",
       "    <tr>\n",
       "      <th>3</th>\n",
       "      <td>ALSACE</td>\n",
       "      <td>2007</td>\n",
       "      <td>Riesling Kirchberg de Ribeauville 2007 J. Sipp</td>\n",
       "      <td>3</td>\n",
       "    </tr>\n",
       "    <tr>\n",
       "      <th>4</th>\n",
       "      <td>ALSACE</td>\n",
       "      <td>2010</td>\n",
       "      <td>Gewurztraminer Les Princes Abbes, Domaine Schl...</td>\n",
       "      <td>2</td>\n",
       "    </tr>\n",
       "  </tbody>\n",
       "</table>\n",
       "</div>"
      ],
      "text/plain": [
       "  Country/Region Vintage                                       Product name  \\\n",
       "0         ALSACE    2001      Riesling Wineck-Schlossberg, Meyer-Fonne 2001   \n",
       "1         ALSACE    2007  Alsace Pinot Gris Les Elements, Dom. Bott Geyl...   \n",
       "2         ALSACE    2007          Alsace Riesling Domaine Marcel Deiss 2007   \n",
       "3         ALSACE    2007     Riesling Kirchberg de Ribeauville 2007 J. Sipp   \n",
       "4         ALSACE    2010  Gewurztraminer Les Princes Abbes, Domaine Schl...   \n",
       "\n",
       "  Consumption April 2014 - March 2015  \n",
       "0                                   8  \n",
       "1                                   6  \n",
       "2                                   4  \n",
       "3                                   3  \n",
       "4                                   2  "
      ]
     },
     "execution_count": 8,
     "metadata": {},
     "output_type": "execute_result"
    }
   ],
   "source": [
    "# 3. disaply the preview\n",
    "consumption_df[:5]"
   ]
  },
  {
   "attachments": {},
   "cell_type": "markdown",
   "metadata": {},
   "source": [
    "## <a id='cleaning'></a>Cleaning the data sets"
   ]
  },
  {
   "attachments": {},
   "cell_type": "markdown",
   "metadata": {},
   "source": [
    "While investigating the datasets, I noticed that there are several discrepancies in the content of the two sets, so that the values do not always match up in the way you would like. I therefore need to do some *cleaning* of the datasets before creating my visualisation."
   ]
  },
  {
   "attachments": {},
   "cell_type": "markdown",
   "metadata": {},
   "source": [
    "First, I noticed that there are some gaps in the consumption list, so that certain years are missing. For example, the file `Wine_Cellar_Consumption_dataset_14-15.csv` contains the row:\n",
    "\n",
    "|Country/Region|Vintage|Product name|Consumption April 2014 - March 2015|\n",
    "|-----------|-----------|-----------|-----------|\n",
    "|ALSACE|2001|Riesling Wineck-Schlossberg, Meyer-Fonne 2001|8|\n",
    "\n",
    "\n",
    "However, the file `Annex_B_-_Wine_Cellar_Stock-list_data_07_07_15.csv` does not contain any rows in which the value of `Country/Region` is `Alsace` and the value of `Vintage` is `2001`."
   ]
  },
  {
   "attachments": {},
   "cell_type": "markdown",
   "metadata": {},
   "source": [
    "#### 3. Converting `Country/Region` values to a standard form"
   ]
  },
  {
   "attachments": {},
   "cell_type": "markdown",
   "metadata": {},
   "source": [
    "I noticed that the values in the column `stocklist_df['Country/Region']` do not match the values in the column `consumption_df['Country/Region']`. The first thing I noticed is that the case information (ie. the use of capital letters) is inconsistent between the two columns. Add a column `standard_region` to each of the dataframes `stocklist_df` and `consumption_df`. In both cases, the column should contain the value of that row's `Country/Region` column:\n",
    "- converted to lower case, and\n",
    "- with any trailing or preceding white space removed."
   ]
  },
  {
   "cell_type": "code",
   "execution_count": 10,
   "metadata": {},
   "outputs": [
    {
     "data": {
      "text/html": [
       "<div>\n",
       "<style scoped>\n",
       "    .dataframe tbody tr th:only-of-type {\n",
       "        vertical-align: middle;\n",
       "    }\n",
       "\n",
       "    .dataframe tbody tr th {\n",
       "        vertical-align: top;\n",
       "    }\n",
       "\n",
       "    .dataframe thead th {\n",
       "        text-align: right;\n",
       "    }\n",
       "</style>\n",
       "<table border=\"1\" class=\"dataframe\">\n",
       "  <thead>\n",
       "    <tr style=\"text-align: right;\">\n",
       "      <th></th>\n",
       "      <th>Country/Region</th>\n",
       "      <th>Vintage</th>\n",
       "      <th>Product name</th>\n",
       "      <th>Consumption April 2014 - March 2015</th>\n",
       "      <th>standard_region</th>\n",
       "    </tr>\n",
       "  </thead>\n",
       "  <tbody>\n",
       "    <tr>\n",
       "      <th>0</th>\n",
       "      <td>ALSACE</td>\n",
       "      <td>2001</td>\n",
       "      <td>Riesling Wineck-Schlossberg, Meyer-Fonne 2001</td>\n",
       "      <td>8</td>\n",
       "      <td>alsace</td>\n",
       "    </tr>\n",
       "    <tr>\n",
       "      <th>1</th>\n",
       "      <td>ALSACE</td>\n",
       "      <td>2007</td>\n",
       "      <td>Alsace Pinot Gris Les Elements, Dom. Bott Geyl...</td>\n",
       "      <td>6</td>\n",
       "      <td>alsace</td>\n",
       "    </tr>\n",
       "    <tr>\n",
       "      <th>2</th>\n",
       "      <td>ALSACE</td>\n",
       "      <td>2007</td>\n",
       "      <td>Alsace Riesling Domaine Marcel Deiss 2007</td>\n",
       "      <td>4</td>\n",
       "      <td>alsace</td>\n",
       "    </tr>\n",
       "    <tr>\n",
       "      <th>3</th>\n",
       "      <td>ALSACE</td>\n",
       "      <td>2007</td>\n",
       "      <td>Riesling Kirchberg de Ribeauville 2007 J. Sipp</td>\n",
       "      <td>3</td>\n",
       "      <td>alsace</td>\n",
       "    </tr>\n",
       "    <tr>\n",
       "      <th>4</th>\n",
       "      <td>ALSACE</td>\n",
       "      <td>2010</td>\n",
       "      <td>Gewurztraminer Les Princes Abbes, Domaine Schl...</td>\n",
       "      <td>2</td>\n",
       "      <td>alsace</td>\n",
       "    </tr>\n",
       "  </tbody>\n",
       "</table>\n",
       "</div>"
      ],
      "text/plain": [
       "  Country/Region Vintage                                       Product name  \\\n",
       "0         ALSACE    2001      Riesling Wineck-Schlossberg, Meyer-Fonne 2001   \n",
       "1         ALSACE    2007  Alsace Pinot Gris Les Elements, Dom. Bott Geyl...   \n",
       "2         ALSACE    2007          Alsace Riesling Domaine Marcel Deiss 2007   \n",
       "3         ALSACE    2007     Riesling Kirchberg de Ribeauville 2007 J. Sipp   \n",
       "4         ALSACE    2010  Gewurztraminer Les Princes Abbes, Domaine Schl...   \n",
       "\n",
       "  Consumption April 2014 - March 2015 standard_region  \n",
       "0                                   8          alsace  \n",
       "1                                   6          alsace  \n",
       "2                                   4          alsace  \n",
       "3                                   3          alsace  \n",
       "4                                   2          alsace  "
      ]
     },
     "execution_count": 10,
     "metadata": {},
     "output_type": "execute_result"
    }
   ],
   "source": [
    "consumption_df['standard_region']=consumption_df['Country/Region'].str.lower().str.strip()\n",
    "consumption_df[:5]"
   ]
  },
  {
   "attachments": {},
   "cell_type": "markdown",
   "metadata": {},
   "source": [
    "#### 4. Identifying discrepancies in the `Country/Region` values"
   ]
  },
  {
   "attachments": {},
   "cell_type": "markdown",
   "metadata": {},
   "source": [
    "Using a python data structure to identify the values that appear in both `stocklist_df['standard_region']` and `consumption_df['standard_region']`."
   ]
  },
  {
   "cell_type": "code",
   "execution_count": 11,
   "metadata": {
    "hide_input": false
   },
   "outputs": [
    {
     "data": {
      "text/plain": [
       "['burgundy (red)',\n",
       " 'loire',\n",
       " 'alsace',\n",
       " 'mosel',\n",
       " 'new zealand',\n",
       " 'port',\n",
       " 'liqueurs']"
      ]
     },
     "execution_count": 11,
     "metadata": {},
     "output_type": "execute_result"
    }
   ],
   "source": [
    "merged_consumption_and_stocklist = pd.merge(stocklist_df, consumption_df, on=['standard_region'], how='inner')\n",
    "merged_consumption_and_stocklist['standard_region'].unique().tolist()"
   ]
  },
  {
   "attachments": {},
   "cell_type": "markdown",
   "metadata": {},
   "source": [
    "Identifing those values in the column `consumption_df['standard_region']` which do not appear in `stocklist_df['standard_region']`. This will tell which values need to be changed explicitly, rather than relying on simply converting to lower case.\n",
    "\n",
    "Using a python data structure to identify all the values which appear in the column `consumption_df['standard_region']` but which do **not** appear in the column `stocklist_df['standard_region']`."
   ]
  },
  {
   "cell_type": "code",
   "execution_count": 12,
   "metadata": {
    "hide_input": false
   },
   "outputs": [
    {
     "data": {
      "text/plain": [
       "['rhone',\n",
       " 'reception wines',\n",
       " 'australia',\n",
       " 'champagne',\n",
       " 'cognac',\n",
       " 'italy',\n",
       " 'spirits',\n",
       " 'south africa',\n",
       " 'rhine',\n",
       " 'bordeaux (red)',\n",
       " 'united states of america',\n",
       " 'england  / wales',\n",
       " 'wines sold',\n",
       " 'burgundy ( white)',\n",
       " 'bordeaux ( white)']"
      ]
     },
     "execution_count": 12,
     "metadata": {},
     "output_type": "execute_result"
    }
   ],
   "source": [
    "list(set(consumption_df['standard_region'].unique()) - set(stocklist_df['standard_region'].unique()))"
   ]
  },
  {
   "attachments": {},
   "cell_type": "markdown",
   "metadata": {},
   "source": [
    "#### 5. Correcting discrepancies in the `Country/Region` values"
   ]
  },
  {
   "attachments": {},
   "cell_type": "markdown",
   "metadata": {},
   "source": [
    "Having identified which values appear in the column `consumption_df['standard_region']` but which do not appear in the column `stocklist_df['standard_region']`, I need to match the values in `consumption_df` against the values in `stocklist_df`.\n"
   ]
  },
  {
   "attachments": {},
   "cell_type": "markdown",
   "metadata": {},
   "source": [
    "Looking over the data, I decided that the following table represents the discrepancies between the two datasets:\n",
    "\n",
    "| `consumption_df['standard_country/region']` | `stocklist_df['standard_country/region']` |\n",
    "|-------------|-----------|\n",
    "|`australia`  | `australian`|\n",
    "|`burgundy ( white)` | `burgundy (white)`|\n",
    "|`bordeaux ( white)` | `bordeaux` |\n",
    "|`bordeaux (red)` | `bordeaux`|\n",
    "|`england  / wales` | `english & welsh`|\n",
    "|`italy` | `italian (red)`|\n",
    "|`rhine` | `rhein`|\n",
    "|`rhone` | `rhône`|\n",
    "|`south africa` | `south african`|\n",
    "|`spirits` | `spirits and aperitifs`|\n",
    "|`united states of america` | `californian (red)`|\n"
   ]
  },
  {
   "attachments": {},
   "cell_type": "markdown",
   "metadata": {},
   "source": [
    "Altering the values in the column `consumption_df['standard_region']` so that the column contains the equivalent value from the `stocklist_df['standard_region']` column, as shown in the above table.\n",
    "\n",
    "(For example, you replacing all appearances of the value `australia` in `consumption_df['standard_region']` with the value `australian`)."
   ]
  },
  {
   "cell_type": "code",
   "execution_count": 13,
   "metadata": {
    "code_folding": [],
    "hide_input": false
   },
   "outputs": [
    {
     "data": {
      "text/html": [
       "<div>\n",
       "<style scoped>\n",
       "    .dataframe tbody tr th:only-of-type {\n",
       "        vertical-align: middle;\n",
       "    }\n",
       "\n",
       "    .dataframe tbody tr th {\n",
       "        vertical-align: top;\n",
       "    }\n",
       "\n",
       "    .dataframe thead th {\n",
       "        text-align: right;\n",
       "    }\n",
       "</style>\n",
       "<table border=\"1\" class=\"dataframe\">\n",
       "  <thead>\n",
       "    <tr style=\"text-align: right;\">\n",
       "      <th></th>\n",
       "      <th>Country/Region</th>\n",
       "      <th>Vintage</th>\n",
       "      <th>Product name</th>\n",
       "      <th>Consumption April 2014 - March 2015</th>\n",
       "      <th>standard_region</th>\n",
       "    </tr>\n",
       "  </thead>\n",
       "  <tbody>\n",
       "    <tr>\n",
       "      <th>0</th>\n",
       "      <td>ALSACE</td>\n",
       "      <td>2001</td>\n",
       "      <td>Riesling Wineck-Schlossberg, Meyer-Fonne 2001</td>\n",
       "      <td>8</td>\n",
       "      <td>alsace</td>\n",
       "    </tr>\n",
       "    <tr>\n",
       "      <th>1</th>\n",
       "      <td>ALSACE</td>\n",
       "      <td>2007</td>\n",
       "      <td>Alsace Pinot Gris Les Elements, Dom. Bott Geyl...</td>\n",
       "      <td>6</td>\n",
       "      <td>alsace</td>\n",
       "    </tr>\n",
       "    <tr>\n",
       "      <th>2</th>\n",
       "      <td>ALSACE</td>\n",
       "      <td>2007</td>\n",
       "      <td>Alsace Riesling Domaine Marcel Deiss 2007</td>\n",
       "      <td>4</td>\n",
       "      <td>alsace</td>\n",
       "    </tr>\n",
       "    <tr>\n",
       "      <th>3</th>\n",
       "      <td>ALSACE</td>\n",
       "      <td>2007</td>\n",
       "      <td>Riesling Kirchberg de Ribeauville 2007 J. Sipp</td>\n",
       "      <td>3</td>\n",
       "      <td>alsace</td>\n",
       "    </tr>\n",
       "    <tr>\n",
       "      <th>4</th>\n",
       "      <td>ALSACE</td>\n",
       "      <td>2010</td>\n",
       "      <td>Gewurztraminer Les Princes Abbes, Domaine Schl...</td>\n",
       "      <td>2</td>\n",
       "      <td>alsace</td>\n",
       "    </tr>\n",
       "  </tbody>\n",
       "</table>\n",
       "</div>"
      ],
      "text/plain": [
       "  Country/Region Vintage                                       Product name  \\\n",
       "0         ALSACE    2001      Riesling Wineck-Schlossberg, Meyer-Fonne 2001   \n",
       "1         ALSACE    2007  Alsace Pinot Gris Les Elements, Dom. Bott Geyl...   \n",
       "2         ALSACE    2007          Alsace Riesling Domaine Marcel Deiss 2007   \n",
       "3         ALSACE    2007     Riesling Kirchberg de Ribeauville 2007 J. Sipp   \n",
       "4         ALSACE    2010  Gewurztraminer Les Princes Abbes, Domaine Schl...   \n",
       "\n",
       "  Consumption April 2014 - March 2015 standard_region  \n",
       "0                                   8          alsace  \n",
       "1                                   6          alsace  \n",
       "2                                   4          alsace  \n",
       "3                                   3          alsace  \n",
       "4                                   2          alsace  "
      ]
     },
     "execution_count": 13,
     "metadata": {},
     "output_type": "execute_result"
    }
   ],
   "source": [
    "discrepancies_dictionary = {'australia': 'australian',\n",
    "                'burgundy ( white)': 'burgundy (white)',\n",
    "                'bordeaux ( white)': 'bordeaux',\n",
    "                'bordeaux (red)': 'bordeaux',\n",
    "                'england  / wales': 'english & welsh',\n",
    "                'italy': 'italian (red)',\n",
    "                'rhine': 'rhein',\n",
    "                'rhone': 'rhône',\n",
    "                'south africa': 'south african',\n",
    "                'spirits': 'spirits and aperitifs',\n",
    "                'united states of america': 'californian (red)'}\n",
    "\n",
    "consumption_df['standard_region'] = consumption_df['standard_region'].replace(discrepancies_dictionary)\n",
    "\n",
    "consumption_df.head()"
   ]
  },
  {
   "attachments": {},
   "cell_type": "markdown",
   "metadata": {},
   "source": [
    "#### 6. Comparing values in the two datasets"
   ]
  },
  {
   "attachments": {},
   "cell_type": "markdown",
   "metadata": {},
   "source": [
    "Addressing the original question: which wine region/years in the consumption dataset have no counterpart in the stock-list dataset?"
   ]
  },
  {
   "attachments": {},
   "cell_type": "markdown",
   "metadata": {},
   "source": [
    "To repeat the earlier example, the file `Wine_Cellar_Consumption_dataset_14-15.csv` contains the row:\n",
    "\n",
    "|Country/Region|Vintage|Product name|Consumption April 2014 - March 2015|\n",
    "|-----------|-----------|-----------|-----------|\n",
    "|ALSACE|2001|Riesling Wineck-Schlossberg, Meyer-Fonne 2001|8|\n",
    "\n",
    "but the file `Annex_B_-_Wine_Cellar_Stock-list_data_07_07_15.csv` does not contain any rows in which the value of `Country/Region` is `Alsace` and the value of `Vintage` is `2001`."
   ]
  },
  {
   "attachments": {},
   "cell_type": "markdown",
   "metadata": {},
   "source": [
    "Using a python data structure to identify all the pairs of values of (`consumption_df['standard_region']`, `consumption_df['Vintage']`) for which there is not a matching pair (`stocklist_df['standard_region']`, `stocklist_df['Vintage']`)."
   ]
  },
  {
   "cell_type": "code",
   "execution_count": 14,
   "metadata": {
    "code_folding": [],
    "hide_input": false,
    "scrolled": true
   },
   "outputs": [
    {
     "data": {
      "text/html": [
       "<div>\n",
       "<style scoped>\n",
       "    .dataframe tbody tr th:only-of-type {\n",
       "        vertical-align: middle;\n",
       "    }\n",
       "\n",
       "    .dataframe tbody tr th {\n",
       "        vertical-align: top;\n",
       "    }\n",
       "\n",
       "    .dataframe thead th {\n",
       "        text-align: right;\n",
       "    }\n",
       "</style>\n",
       "<table border=\"1\" class=\"dataframe\">\n",
       "  <thead>\n",
       "    <tr style=\"text-align: right;\">\n",
       "      <th></th>\n",
       "      <th>Country/Region_x</th>\n",
       "      <th>Vintage</th>\n",
       "      <th>Product name</th>\n",
       "      <th>Consumption April 2014 - March 2015</th>\n",
       "      <th>standard_region</th>\n",
       "      <th>Country/Region_y</th>\n",
       "      <th>Product Name</th>\n",
       "      <th>Grade</th>\n",
       "    </tr>\n",
       "  </thead>\n",
       "  <tbody>\n",
       "    <tr>\n",
       "      <th>0</th>\n",
       "      <td>ALSACE</td>\n",
       "      <td>2001</td>\n",
       "      <td>Riesling Wineck-Schlossberg, Meyer-Fonne 2001</td>\n",
       "      <td>8</td>\n",
       "      <td>alsace</td>\n",
       "      <td>NaN</td>\n",
       "      <td>NaN</td>\n",
       "      <td>NaN</td>\n",
       "    </tr>\n",
       "    <tr>\n",
       "      <th>910</th>\n",
       "      <td>BORDEAUX ( WHITE)</td>\n",
       "      <td>1997</td>\n",
       "      <td>Chateau La Tour Blanche 1997</td>\n",
       "      <td>1</td>\n",
       "      <td>bordeaux</td>\n",
       "      <td>NaN</td>\n",
       "      <td>NaN</td>\n",
       "      <td>NaN</td>\n",
       "    </tr>\n",
       "    <tr>\n",
       "      <th>911</th>\n",
       "      <td>BORDEAUX ( WHITE)</td>\n",
       "      <td>1997</td>\n",
       "      <td>Chateau Lafaurie-Peyraguey 1997</td>\n",
       "      <td>6</td>\n",
       "      <td>bordeaux</td>\n",
       "      <td>NaN</td>\n",
       "      <td>NaN</td>\n",
       "      <td>NaN</td>\n",
       "    </tr>\n",
       "    <tr>\n",
       "      <th>912</th>\n",
       "      <td>BORDEAUX ( WHITE)</td>\n",
       "      <td>1997</td>\n",
       "      <td>Chateau Suduiraut 1997</td>\n",
       "      <td>26</td>\n",
       "      <td>bordeaux</td>\n",
       "      <td>NaN</td>\n",
       "      <td>NaN</td>\n",
       "      <td>NaN</td>\n",
       "    </tr>\n",
       "    <tr>\n",
       "      <th>937</th>\n",
       "      <td>BORDEAUX ( WHITE)</td>\n",
       "      <td>2007</td>\n",
       "      <td>Chateau Doisy-Vedrines (½ bottle) 2007</td>\n",
       "      <td>1</td>\n",
       "      <td>bordeaux</td>\n",
       "      <td>NaN</td>\n",
       "      <td>NaN</td>\n",
       "      <td>NaN</td>\n",
       "    </tr>\n",
       "  </tbody>\n",
       "</table>\n",
       "</div>"
      ],
      "text/plain": [
       "      Country/Region_x Vintage                                   Product name  \\\n",
       "0               ALSACE    2001  Riesling Wineck-Schlossberg, Meyer-Fonne 2001   \n",
       "910  BORDEAUX ( WHITE)    1997                   Chateau La Tour Blanche 1997   \n",
       "911  BORDEAUX ( WHITE)    1997                Chateau Lafaurie-Peyraguey 1997   \n",
       "912  BORDEAUX ( WHITE)    1997                         Chateau Suduiraut 1997   \n",
       "937  BORDEAUX ( WHITE)    2007         Chateau Doisy-Vedrines (½ bottle) 2007   \n",
       "\n",
       "    Consumption April 2014 - March 2015 standard_region Country/Region_y  \\\n",
       "0                                     8          alsace              NaN   \n",
       "910                                   1        bordeaux              NaN   \n",
       "911                                   6        bordeaux              NaN   \n",
       "912                                  26        bordeaux              NaN   \n",
       "937                                   1        bordeaux              NaN   \n",
       "\n",
       "    Product Name Grade  \n",
       "0            NaN   NaN  \n",
       "910          NaN   NaN  \n",
       "911          NaN   NaN  \n",
       "912          NaN   NaN  \n",
       "937          NaN   NaN  "
      ]
     },
     "execution_count": 14,
     "metadata": {},
     "output_type": "execute_result"
    }
   ],
   "source": [
    "no_matching_pair_in_stocklist_df = consumption_df.merge(stocklist_df,\n",
    "         on=['standard_region','Vintage'],\n",
    "         how='left',\n",
    "         indicator=True).query('_merge == \"left_only\"').drop('_merge', 1)\n",
    "\n",
    "no_matching_pair_in_stocklist_df.head()"
   ]
  },
  {
   "attachments": {},
   "cell_type": "markdown",
   "metadata": {},
   "source": [
    "## <a id='visualising'></a>Visualising the data"
   ]
  },
  {
   "attachments": {},
   "cell_type": "markdown",
   "metadata": {},
   "source": [
    "### How much English and Welsh wine is drunk from the UK Government wine cellars?"
   ]
  },
  {
   "attachments": {},
   "cell_type": "markdown",
   "metadata": {},
   "source": [
    "Wines of Great Britain ( [WineGB](https://www.winegb.co.uk/) ) is the national association for the English and Welsh wine industry and they have asked you to find out how much English and Welsh wine is drunk from the UK Government wine cellar, especially in comparison to other established wine growing regions.\n",
    "\n",
    "Your task is to plot a bar chart, where the height of each bar represents the number of bottles drunk from each of the major wine growing regions in the period April 2014 to March 2015.\n",
    "\n",
    "This task only uses the data from the file `Wine_Cellar_Consumption_dataset_14-15.csv` in the `data` directory. "
   ]
  },
  {
   "attachments": {},
   "cell_type": "markdown",
   "metadata": {},
   "source": [
    "#### 7. Creating a dataframe containing plotting data"
   ]
  },
  {
   "attachments": {},
   "cell_type": "markdown",
   "metadata": {},
   "source": [
    "To begin, create a dataframe which contains the data needed to construct your plot. The dataframe should contain two columns, one for the country or region, and one for the number of bottles consumed."
   ]
  },
  {
   "attachments": {},
   "cell_type": "markdown",
   "metadata": {},
   "source": [
    "\n",
    "Note that the aim of this task is to convert your data into a form which can easily be plotted, so if your dataframe looks different from this proposal, that's fine, as long as you will be able to generate an appropriate plot.\n",
    "\n",
    "I'm only interested in the regions, not the vintage.\n"
   ]
  },
  {
   "attachments": {},
   "cell_type": "markdown",
   "metadata": {},
   "source": [
    "**Note**: There is an additional simplification to be made: you are only interested in wine consumption. The file `Wine_Cellar_Consumption_dataset_14-15.csv` contains rows with the values:\n",
    "\n",
    "- `Country/Region` = `SPIRITS`\n",
    "- `Country/Region` = `LIQUEURS`\n",
    "\n",
    "I'm not interested in these rows, and they should be excluded from my  plotting dataframe. That is, I should only select the rows which are concerned with wines for my plot."
   ]
  },
  {
   "cell_type": "code",
   "execution_count": 15,
   "metadata": {
    "hide_input": false
   },
   "outputs": [
    {
     "data": {
      "text/html": [
       "<div>\n",
       "<style scoped>\n",
       "    .dataframe tbody tr th:only-of-type {\n",
       "        vertical-align: middle;\n",
       "    }\n",
       "\n",
       "    .dataframe tbody tr th {\n",
       "        vertical-align: top;\n",
       "    }\n",
       "\n",
       "    .dataframe thead th {\n",
       "        text-align: right;\n",
       "    }\n",
       "</style>\n",
       "<table border=\"1\" class=\"dataframe\">\n",
       "  <thead>\n",
       "    <tr style=\"text-align: right;\">\n",
       "      <th></th>\n",
       "      <th>Consumption April 2014 - March 2015</th>\n",
       "    </tr>\n",
       "    <tr>\n",
       "      <th>Country/Region</th>\n",
       "      <th></th>\n",
       "    </tr>\n",
       "  </thead>\n",
       "  <tbody>\n",
       "    <tr>\n",
       "      <th>BORDEAUX (RED)</th>\n",
       "      <td>663.0</td>\n",
       "    </tr>\n",
       "    <tr>\n",
       "      <th>ALSACE</th>\n",
       "      <td>23.0</td>\n",
       "    </tr>\n",
       "    <tr>\n",
       "      <th>AUSTRALIA</th>\n",
       "      <td>3.0</td>\n",
       "    </tr>\n",
       "    <tr>\n",
       "      <th>BORDEAUX ( WHITE)</th>\n",
       "      <td>48.0</td>\n",
       "    </tr>\n",
       "    <tr>\n",
       "      <th>BURGUNDY ( WHITE)</th>\n",
       "      <td>679.0</td>\n",
       "    </tr>\n",
       "  </tbody>\n",
       "</table>\n",
       "</div>"
      ],
      "text/plain": [
       "                   Consumption April 2014 - March 2015\n",
       "Country/Region                                        \n",
       " BORDEAUX (RED)                                  663.0\n",
       "ALSACE                                            23.0\n",
       "AUSTRALIA                                          3.0\n",
       "BORDEAUX ( WHITE)                                 48.0\n",
       "BURGUNDY ( WHITE)                                679.0"
      ]
     },
     "execution_count": 15,
     "metadata": {},
     "output_type": "execute_result"
    }
   ],
   "source": [
    "plotting_data_df = consumption_df[['Country/Region', 'Consumption April 2014 - March 2015']]\n",
    "\n",
    "# excluding SPIRITS and LIQUEURS\n",
    "plotting_data_df = plotting_data_df[(plotting_data_df['Country/Region'] != 'SPIRITS') & (plotting_data_df['Country/Region'] != 'LIQUEURS')]\n",
    "\n",
    "# convert column 'Consumption April 2014 - March 2015' to float\n",
    "plotting_data_df = plotting_data_df.astype({'Consumption April 2014 - March 2015': float})\n",
    "\n",
    "# making sure it's summed up\n",
    "plotting_data_df = plotting_data_df.pivot_table(index=['Country/Region'], aggfunc=np.sum)\n",
    "\n",
    "# displaying the first 5 rows\n",
    "plotting_data_df[:5]"
   ]
  },
  {
   "attachments": {},
   "cell_type": "markdown",
   "metadata": {},
   "source": [
    "#### 8. Plot the data"
   ]
  },
  {
   "attachments": {},
   "cell_type": "markdown",
   "metadata": {},
   "source": [
    "Having created an appropriate dataframe, I'll now plot the data as a bar chart.\n",
    "\n",
    "\n",
    "- The x axis should show the wine growing region\n",
    "\n",
    "- The y axis should show the number of bottles consumed in the period April 2014-March 2015.\n",
    "\n",
    "- The graph should have an appropriate title, axis labels, and legend.\n"
   ]
  },
  {
   "cell_type": "code",
   "execution_count": 16,
   "metadata": {
    "hide_input": false
   },
   "outputs": [
    {
     "data": {
      "text/plain": [
       "Text(0.5,1,'Wine Cellar Consumption April 2014 - March 2015')"
      ]
     },
     "execution_count": 16,
     "metadata": {},
     "output_type": "execute_result"
    },
    {
     "data": {
      "image/png": "[encoded data removed]",
      "text/plain": [
       "<Figure size 432x288 with 1 Axes>"
      ]
     },
     "metadata": {},
     "output_type": "display_data"
    }
   ],
   "source": [
    "max_consumption = plotting_data_df['Consumption April 2014 - March 2015'].max()\n",
    "\n",
    "plotting_data_df['Consumption April 2014 - March 2015'] \\\n",
    "    .sort_values(ascending=False) \\\n",
    "    .plot.bar(ylim=[0, max_consumption*1.05])\n",
    "\n",
    "plt.xlabel('Country/Region')\n",
    "plt.ylabel('Consumption April 2014 - March 2015')\n",
    "plt.title('Wine Cellar Consumption April 2014 - March 2015')"
   ]
  },
  {
   "attachments": {},
   "cell_type": "markdown",
   "metadata": {
    "hide_input": false
   },
   "source": [
    "<p>I find that &quot;RECEPTION WINES&quot; dominates over the chart, and makes it difficult to read consumption by other country/regions.</p>\n",
    "\n",
    "<p>Although, that&#39;s not what the question asked me to do - I could easily just reduce the range of the y-axis, by modifying the <code>max_consumption*1.05</code>part, in order to make the other (other than &quot;RECEPTION WINES&quot;) values more readable.</p>\n",
    "\n",
    "<p>If I had a choice of another type of chart, to answer the question asked, I&#39;d decide to use a Pareto chart.</p>\n",
    "\n",
    "<p>I didn&#39;t do it, as the question didn&#39;t ask for it, but I think it&#39;s a good idea to group all colours of &quot;BORDEAUX&quot; and then all colours of &quot;BURGUNDY&quot; together as they presumably come from the same two different regions, regardless of colour. Then the English and Welsh wine would lose its first position to French wine. I don&#39;t have enough information to tell where &quot;RECEPTION WINES&quot; came from, but that could be investigated unless they&#39;re blends, which then could be marked appropriately on the chart.</p>\n"
   ]
  }
 ],
 "metadata": {
  "kernelspec": {
   "display_name": "Python 3",
   "language": "python",
   "name": "python3"
  },
  "language_info": {
   "codemirror_mode": {
    "name": "ipython",
    "version": 3
   },
   "file_extension": ".py",
   "mimetype": "text/x-python",
   "name": "python",
   "nbconvert_exporter": "python",
   "pygments_lexer": "ipython3",
   "version": "3.9.5"
  }
 },
 "nbformat": 4,
 "nbformat_minor": 2
}
