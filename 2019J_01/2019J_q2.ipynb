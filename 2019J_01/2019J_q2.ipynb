{
 "cells": [
  {
   "attachments": {},
   "cell_type": "markdown",
   "metadata": {},
   "source": [
    "# [ANONYMISED]"
   ]
  },
  {
   "attachments": {},
   "cell_type": "markdown",
   "metadata": {},
   "source": [
    "**Name**: Konrad Rzucidlo\n",
    "\n",
    "**PI**: [ANONYMISED]"
   ]
  },
  {
   "attachments": {},
   "cell_type": "markdown",
   "metadata": {},
   "source": [
    "### The task"
   ]
  },
  {
   "attachments": {},
   "cell_type": "markdown",
   "metadata": {},
   "source": [
    "In this question, I will investigate two datasets, one which details the recorded incidence of leprosy in the different countries of the world, and one which details various facts about different countries' economies. The aim is to explore the relationship between the incidence of leprosy in a country, and that country's GDP.\n",
    "\n",
    "Data on incidence of leprosy from the World Health Organisation via the URL:\n",
    "\n",
    "http://apps.who.int/gho/data/node.main.A1639?lang=en\n",
    "\n",
    "The economic data from the United Nations via the URL:\n",
    "\n",
    "http://data.un.org/_Docs/SYB/CSV/SYB62_T13_201904_GDP%20and%20GDP%20Per%20Capita.csv\n",
    "\n",
    "** Produce two graphical representations of the data for the year 2017.**\n",
    "\n",
    "1. **The first graph should illustrate the relationship between the number of leprosy cases and a country's GDP for all countries in the year 2017.**\n",
    "\n",
    "2. **The second graph should show which countries had the highest number of leprosy cases per GDP in the year 2017.**"
   ]
  },
  {
   "attachments": {},
   "cell_type": "markdown",
   "metadata": {},
   "source": [
    "The licensing terms for the World Health Organisation data: https://www.who.int/about/copyright/en/"
   ]
  },
  {
   "attachments": {},
   "cell_type": "markdown",
   "metadata": {},
   "source": [
    "#### 1. Identifing and explaining the relevant licensing terms and conditions"
   ]
  },
  {
   "attachments": {},
   "cell_type": "markdown",
   "metadata": {},
   "source": [
    "<p><u>World Health Organisation database licencing info</u>: <a href=\"https://www.who.int/about/copyright/en/\" target=\"_blank\">https://www.who.int/about/copyright/en/</a><br />\n",
    "<u>Specific clauses in the licence that permits my use of the database</u>:<br />\n",
    "<em>&quot;<span>Extracts of the information in the web site may be reviewed, reproduced or translated for research or private study but not for sale or for use in conjunction with commercial purposes.&quot; </span></em><span>and <em>&quot;</em></span><em><span>Extracts of the information in the web site may be reviewed, reproduced or translated for research or private study but not for sale or for use in conjunction with commercial purposes.</span><span> </span></em> <em><span>Reproduction or translation of substantial portions of the web site, or any use other than for educational or other non-commercial purposes, require explicit, prior authorization in writing</span><span>&quot;. </span></em>I did so by adding &quot;References&quot; section at the end of this document. Using the data for the Tutor Marked Assessment fulfils the &quot;<em><span>educational or other non-commercial purposes</span></em>&quot; requirement.</p>\n",
    "\n",
    "<p>&nbsp;</p>\n",
    "\n",
    "<p><u>United Nations database licencing info</u>: <a href=\"http://data.un.org/Host.aspx?Content=UNdataUse\" target=\"_blank\">http://data.un.org/Host.aspx?Content=UNdataUse</a><br />\n",
    "<u>Specific clauses in the licence that permits my use of the database</u>:<br />\n",
    "<em>&quot; All data and metadata provided on <span style=\"color: #41599a ; font-size: 1em\">UN</span><span style=\"color: #f60 ; font-size: 1em\">data</span>&rsquo;s website are available free of charge and may be copied freely, duplicated and further distributed provided that <span style=\"color: #41599a ; font-size: 1em\">UN</span><span style=\"color: #f60 ; font-size: 1em\">data</span> is cited as the reference. &quot;. </em>Therefore I needed to make sure I referenced my use of the database. I did so by adding &quot;References&quot; section at the end of this document.</p>\n"
   ]
  },
  {
   "attachments": {},
   "cell_type": "markdown",
   "metadata": {},
   "source": [
    "#### 2. Importing the two datasets"
   ]
  },
  {
   "cell_type": "code",
   "execution_count": 1,
   "metadata": {},
   "outputs": [],
   "source": [
    "#imports\n",
    "import requests\n",
    "import pandas as pd\n",
    "import chardet\n",
    "import matplotlib.pyplot as plt\n",
    "import matplotlib.patches as mpatches\n",
    "\n",
    "#disables SettingWithCopyWarning false positive warning. \n",
    "pd.options.mode.chained_assignment = None  # default='warn'\n",
    "#please run cells from top to bottom, as doing it in any different way, or more than once might produce uninteneded results."
   ]
  },
  {
   "cell_type": "code",
   "execution_count": 2,
   "metadata": {},
   "outputs": [],
   "source": [
    "# setting urls as variables\n",
    "GDP_DATABASE_URL = 'http://data.un.org/_Docs/SYB/CSV/SYB62_T13_201904_GDP%20and%20GDP%20Per%20Capita.csv'\n",
    "LEPROSY_DATABASE_URL = 'https://apps.who.int/gho/athena/data/GHO/WHS3_45?filter=COUNTRY:*&x-sideaxis=COUNTRY&x-topaxis=GHO;YEAR&profile=crosstable&format=csv'\n",
    "\n",
    "# downloadaing the data and assigning to variables\n",
    "GDP_database_raw_data = requests.get(GDP_DATABASE_URL)\n",
    "leprosy_database_raw_data = requests.get(LEPROSY_DATABASE_URL)"
   ]
  },
  {
   "cell_type": "code",
   "execution_count": 3,
   "metadata": {},
   "outputs": [
    {
     "data": {
      "text/plain": [
       "20941"
      ]
     },
     "execution_count": 3,
     "metadata": {},
     "output_type": "execute_result"
    }
   ],
   "source": [
    "'''\n",
    "at this point I decided to save the data, so that later on, in case any website goes down\n",
    "and I restart the kernel, losing the variables in the process, I'd still have the data saved as a file. \n",
    "I'm using the \";\" sign at the end to suppress the output.\n",
    "'''\n",
    "# writing data to CSV files\n",
    "open('data/GDP_database.csv', 'wb').write(GDP_database_raw_data.content)\n",
    "open('data/leprosy_database.csv', 'wb').write(leprosy_database_raw_data.content)"
   ]
  },
  {
   "cell_type": "code",
   "execution_count": 4,
   "metadata": {},
   "outputs": [],
   "source": [
    "# assigning CVS to pandas data frame\n",
    "GDP_database_df = pd.read_csv('data/GDP_database.csv',\n",
    "                              encoding=chardet.detect((GDP_database_raw_data.content))[\n",
    "                                  'encoding'],\n",
    "                              index_col=False, header=1)\n",
    "\n",
    "leprosy_database_df = pd.read_csv('data/leprosy_database.csv',\n",
    "                                  encoding=chardet.detect((leprosy_database_raw_data.content))[\n",
    "                                      'encoding'],\n",
    "                                  index_col=False, header=1)"
   ]
  },
  {
   "attachments": {},
   "cell_type": "markdown",
   "metadata": {},
   "source": [
    "#### 3. Identifing and handling ambiguity and vagueness"
   ]
  },
  {
   "cell_type": "code",
   "execution_count": 5,
   "metadata": {},
   "outputs": [],
   "source": [
    "#keeping only the rows where year is equal to 2017, and selecting only one type of GDP information\n",
    "GDP_database_df = GDP_database_df[(GDP_database_df['Year'] == 2017) & \\\n",
    "                                  (GDP_database_df['Series'] == 'GDP in current prices (millions of US dollars)')] \\\n",
    "                    [['Unnamed: 1','Value']] #keeping only two important columns\n",
    "\n",
    "#renaming the columns\n",
    "GDP_database_df.columns = ['Country', 'GDP in 2017 (millions of US Dollars)']"
   ]
  },
  {
   "cell_type": "code",
   "execution_count": 6,
   "metadata": {},
   "outputs": [
    {
     "data": {
      "text/plain": [
       "array([      44,       60,      114,      197,      199,      281,\n",
       "            292,      309,      336,      393,      427,      497,\n",
       "            780,      856,      864,      931,      996,     1017,\n",
       "           1082,     1127,     1139,     1212,     1347,     1391,\n",
       "           1487,     1489,     1510,     1535,     1690,     1718,\n",
       "           1773,     1845,     1902,     1993,     2562,     2632,\n",
       "           2701,     2763,     2790,     2955,     3013,     3155,\n",
       "           3543,     3740,     3807,     4030,     4409,     4713,\n",
       "           4786,     4845,     4866,     4874,     4992,     5606,\n",
       "           5694,     5813,     6269,     6296,     6339,     6401,\n",
       "           7146,     7228,     7241,     7565,     8120,     8128,\n",
       "           8521,     9136,     9236,     9894,    10208,    10717,\n",
       "          11135,    11280,    11292,    11537,    11792,    12128,\n",
       "          12325,    12487,    12553,    12652,    13039,    13208,\n",
       "          13245,    13366,    13814,    14498,    14623,    14827,\n",
       "          15159,    15183,    15236,    16853,    17365,    17407,\n",
       "          18037,    18169,    21126,    21993,    22006,    22054,\n",
       "          22105,    22121,    22979,    24477,    24805,    24870,\n",
       "          25127,    25868,    25921,    27699,    27957,    29435,\n",
       "          30463,    34924,    35326,    37509,    37642,    37915,\n",
       "          38055,    38850,    40069,    40708,    40749,    41590,\n",
       "          47544,    48456,    49677,    50361,    52090,    53394,\n",
       "          54441,    55201,    57565,    58222,    58996,    59180,\n",
       "          61838,    62316,    67102,    70784,    74938,    75605,\n",
       "          75620,    75932,    87357,    95618,    96851,   104219,\n",
       "         104296,   109709,   112154,   119534,   120266,   126506,\n",
       "         139761,   159407,   167555,   167605,   182024,   195041,\n",
       "         195136,   202044,   203086,   211403,   211804,   215825,\n",
       "         223780,   245633,   250577,   252247,   255093,   261710,\n",
       "         277081,   302139,   309191,   313595,   314707,   323901,\n",
       "         329866,   331430,   341659,   348872,   350941,   353268,\n",
       "         354606,   375770,   382575,   386563,   399470,   416836,\n",
       "         455303,   460976,   494764,   526212,   535607,   569962,\n",
       "         637486,   657861,   678938,   683827,   830573,   851542,\n",
       "        1015539,  1158229,  1314314,  1408676,  1416752,  1530751,\n",
       "        1558044,  1577524,  1610720,  1647120,  1657949,  1943835,\n",
       "        2055512,  2215906,  2575667,  2582492,  2631228,  2767984,\n",
       "        2999690,  3087724,  3693204,  3726063,  3873340,  3983536,\n",
       "        4608254,  4872415,  5754894,  8771820, 12237782, 19485394,\n",
       "       19634506, 20253103, 21141574, 26896468, 29477988, 80501414])"
      ]
     },
     "execution_count": 6,
     "metadata": {},
     "output_type": "execute_result"
    }
   ],
   "source": [
    "# replacing the ',' with blank, to make conversions of string type to integer type later on\n",
    "GDP_database_df['GDP in 2017 (millions of US Dollars)'] = \\\n",
    "    GDP_database_df['GDP in 2017 (millions of US Dollars)'].str.replace(\n",
    "        ',', '')\n",
    "\n",
    "# drops rows where value for column ' 2017' was 'No data'\n",
    "leprosy_database_df = leprosy_database_df[leprosy_database_df[' 2017'] != 'No data'][[\n",
    "    'Country', ' 2017']]  # only keeps those two columns"
   ]
  },
  {
   "cell_type": "code",
   "execution_count": null,
   "metadata": {},
   "outputs": [],
   "source": [
    "# changing the type of the column from string to integer\n",
    "GDP_database_df = GDP_database_df.astype(\n",
    "    {'GDP in 2017 (millions of US Dollars)': 'int32'})\n",
    "leprosy_database_df = leprosy_database_df.astype({' 2017': 'int32'})\n",
    "\n",
    "# displaying unique values for the column in order to identify outliers/dirty data. In this case none found.\n",
    "GDP_database_df['GDP in 2017 (millions of US Dollars)'].sort_values(\n",
    "    ascending=True).unique()"
   ]
  },
  {
   "cell_type": "code",
   "execution_count": 7,
   "metadata": {},
   "outputs": [],
   "source": [
    "#deleting first 30 rows of data, as they refer to regions, rather than countries.\n",
    "GDP_database_df = GDP_database_df.iloc[30:,] "
   ]
  },
  {
   "cell_type": "code",
   "execution_count": 8,
   "metadata": {},
   "outputs": [
    {
     "data": {
      "text/plain": [
       "array([    45,      0,    605,    250,     10,      2,   3754,      1,\n",
       "          150,     12,     62,  26875,    192,    400,      9,    137,\n",
       "          249,      5,    341,    373,    634,    362,    429,    204,\n",
       "           11,    773,    190,   3649,    123,     44,    543,      4,\n",
       "            3,   3114,      8,      6,    258,    239,     32,     67,\n",
       "           36, 126164,  15910,     19,     26,    187,     90,    152,\n",
       "         1430,    351,    196,    174,     28,    148,    141,     13,\n",
       "         1926,   2279,   3215,      7,    278,   2447,    403,    583,\n",
       "          321,   1902,     21,    235,    113,     41,   1576,     86,\n",
       "         1877,    551,    164,    106,     16,    211,   1936,    191,\n",
       "          332,    109,    357,     18])"
      ]
     },
     "execution_count": 8,
     "metadata": {},
     "output_type": "execute_result"
    }
   ],
   "source": [
    "'''\n",
    "lists unique values for year 2017, which allows to identify how missing data was described.\n",
    "In this case 'No data' value used\n",
    "'''\n",
    "leprosy_database_df[' 2017'].unique() "
   ]
  },
  {
   "cell_type": "code",
   "execution_count": 9,
   "metadata": {},
   "outputs": [],
   "source": [
    "#renames the column names\n",
    "leprosy_database_df.columns = ['Country', 'Number of leprosy cases in 2017']"
   ]
  },
  {
   "cell_type": "code",
   "execution_count": 10,
   "metadata": {},
   "outputs": [],
   "source": [
    "#checks for duplicate countries in the leprosy database\n",
    "leprosy_database_df_duplicate_country_check = leprosy_database_df['Country'].duplicated()\n",
    "\n",
    "leprosy_database_df_duplicate_country_check = \\\n",
    "    leprosy_database_df_duplicate_country_check[leprosy_database_df_duplicate_country_check == True].index.tolist()\n",
    "\n",
    "#if the list is not empty, then error is printed to the screen.\n",
    "if leprosy_database_df_duplicate_country_check: \n",
    "    print (\"Error: There are duplicates in the Country column. Investigate it further\")"
   ]
  },
  {
   "cell_type": "code",
   "execution_count": 11,
   "metadata": {},
   "outputs": [],
   "source": [
    "#checks for duplicate countries in the GDP database\n",
    "GDP_database_df_duplicate_country_check = GDP_database_df['Country'].duplicated()\n",
    "\n",
    "GDP_database_df_duplicate_country_check = \\\n",
    "    GDP_database_df_duplicate_country_check[GDP_database_df_duplicate_country_check == True].index.tolist()\n",
    "\n",
    "#if the list is not empty, then error is printed to the screen.\n",
    "if GDP_database_df_duplicate_country_check:\n",
    "    print (\"Error: There are duplicates in the Country column. Investigate it further\")"
   ]
  },
  {
   "attachments": {},
   "cell_type": "markdown",
   "metadata": {
    "slideshow": {
     "slide_type": "slide"
    }
   },
   "source": [
    "#### 4. Identifing and handling missing data"
   ]
  },
  {
   "attachments": {},
   "cell_type": "markdown",
   "metadata": {},
   "source": [
    "Below cell:\n",
    "merges two databases on common values in 'Country', if no corresponding value for that country in 'Number of leprosy cases in 2017' then it will be listed in leprosy_database_df_and_GDP_database_df_missmatched_data\n",
    "\n",
    "Below output contains 'Country' values from the leprosy_database_df with no match in the GDP_database_df"
   ]
  },
  {
   "cell_type": "code",
   "execution_count": 12,
   "metadata": {},
   "outputs": [
    {
     "data": {
      "text/html": [
       "<div>\n",
       "<style scoped>\n",
       "    .dataframe tbody tr th:only-of-type {\n",
       "        vertical-align: middle;\n",
       "    }\n",
       "\n",
       "    .dataframe tbody tr th {\n",
       "        vertical-align: top;\n",
       "    }\n",
       "\n",
       "    .dataframe thead th {\n",
       "        text-align: right;\n",
       "    }\n",
       "</style>\n",
       "<table border=\"1\" class=\"dataframe\">\n",
       "  <thead>\n",
       "    <tr style=\"text-align: right;\">\n",
       "      <th></th>\n",
       "      <th>Country</th>\n",
       "    </tr>\n",
       "  </thead>\n",
       "  <tbody>\n",
       "    <tr>\n",
       "      <th>15</th>\n",
       "      <td>Bolivia (Plurinational State of)</td>\n",
       "    </tr>\n",
       "    <tr>\n",
       "      <th>34</th>\n",
       "      <td>CÃ´te d'Ivoire</td>\n",
       "    </tr>\n",
       "    <tr>\n",
       "      <th>38</th>\n",
       "      <td>Democratic Republic of the Congo</td>\n",
       "    </tr>\n",
       "    <tr>\n",
       "      <th>71</th>\n",
       "      <td>Lao People's Democratic Republic</td>\n",
       "    </tr>\n",
       "    <tr>\n",
       "      <th>85</th>\n",
       "      <td>Micronesia (Federated States of)</td>\n",
       "    </tr>\n",
       "    <tr>\n",
       "      <th>98</th>\n",
       "      <td>Niue</td>\n",
       "    </tr>\n",
       "    <tr>\n",
       "      <th>112</th>\n",
       "      <td>Saint Vincent and the Grenadines</td>\n",
       "    </tr>\n",
       "    <tr>\n",
       "      <th>137</th>\n",
       "      <td>United Kingdom of Great Britain and Northern I...</td>\n",
       "    </tr>\n",
       "    <tr>\n",
       "      <th>138</th>\n",
       "      <td>United Republic of Tanzania</td>\n",
       "    </tr>\n",
       "    <tr>\n",
       "      <th>142</th>\n",
       "      <td>Venezuela (Bolivarian Republic of)</td>\n",
       "    </tr>\n",
       "  </tbody>\n",
       "</table>\n",
       "</div>"
      ],
      "text/plain": [
       "                                               Country\n",
       "15                    Bolivia (Plurinational State of)\n",
       "34                                      CÃ´te d'Ivoire\n",
       "38                    Democratic Republic of the Congo\n",
       "71                    Lao People's Democratic Republic\n",
       "85                    Micronesia (Federated States of)\n",
       "98                                                Niue\n",
       "112                   Saint Vincent and the Grenadines\n",
       "137  United Kingdom of Great Britain and Northern I...\n",
       "138                        United Republic of Tanzania\n",
       "142                 Venezuela (Bolivarian Republic of)"
      ]
     },
     "execution_count": 12,
     "metadata": {},
     "output_type": "execute_result"
    }
   ],
   "source": [
    "leprosy_database_df_and_GDP_database_df_missmatched_data_df = leprosy_database_df.merge(GDP_database_df,\n",
    "         on=['Country'],\n",
    "         how='left',\n",
    "         indicator=True).query('_merge == \"left_only\"').drop({'_merge', 'Number of leprosy cases in 2017', \n",
    "                                                              'GDP in 2017 (millions of US Dollars)'}, 1)\n",
    "\n",
    "leprosy_database_df_and_GDP_database_df_missmatched_data_df"
   ]
  },
  {
   "attachments": {},
   "cell_type": "markdown",
   "metadata": {},
   "source": [
    "OpenRefine's various fuzzy match algorithms were only able to find 6/10 occurrences from, whereas I was able to find 9/10 by using partial string match as displayed in the cell below. \n",
    "Because of that, I decided against using either OpenRefine or libraries for fuzzy match in python\n",
    "\n",
    "The output of the cell above guided me when constructing custom_partial_search python list."
   ]
  },
  {
   "cell_type": "code",
   "execution_count": 13,
   "metadata": {},
   "outputs": [
    {
     "data": {
      "text/plain": [
       "{'Bolivia (Plurinational State of)': 'Bolivia (Plurin. State of)',\n",
       " \"CÃ´te d'Ivoire\": 'Côte d’Ivoire',\n",
       " 'Democratic Republic of the Congo': 'Dem. Rep. of the Congo',\n",
       " \"Lao People's Democratic Republic\": \"Lao People's Dem. Rep.\",\n",
       " 'Micronesia (Federated States of)': 'Micronesia (Fed. States of)',\n",
       " 'Saint Vincent and the Grenadines': 'Saint Vincent & Grenadines',\n",
       " 'United Kingdom of Great Britain and Northern Ireland': 'United Kingdom',\n",
       " 'United Republic of Tanzania': 'United Rep. of Tanzania',\n",
       " 'Venezuela (Bolivarian Republic of)': 'Venezuela (Boliv. Rep. of)'}"
      ]
     },
     "execution_count": 13,
     "metadata": {},
     "output_type": "execute_result"
    }
   ],
   "source": [
    "custom_partial_search = ['Bolivia', 'voire', 'of the Congo', 'Lao', 'Micronesia', 'Niue', 'Vincent', 'United Kingdom', 'Tanzania', 'Venezuela']\n",
    "discrepancies_dictionary = {}\n",
    "counter = 0\n",
    "\n",
    "for i in custom_partial_search: \n",
    "    custom_partial_search = GDP_database_df[GDP_database_df['Country'].str.contains(i)]\n",
    "        \n",
    "    try:\n",
    "        discrepancies_dictionary[leprosy_database_df_and_GDP_database_df_missmatched_data_df['Country'].\n",
    "             iloc[counter]] = custom_partial_search['Country'].iloc[0] #returns first row of 'Country' df\n",
    "    except:\n",
    "        pass #IndexError would happen for the value it couldn't find, as there will be nothing at ...iloc[0]\n",
    "    counter += 1\n",
    "\n",
    "\n",
    "discrepancies_dictionary "
   ]
  },
  {
   "cell_type": "code",
   "execution_count": 14,
   "metadata": {},
   "outputs": [
    {
     "data": {
      "text/html": [
       "<div>\n",
       "<style scoped>\n",
       "    .dataframe tbody tr th:only-of-type {\n",
       "        vertical-align: middle;\n",
       "    }\n",
       "\n",
       "    .dataframe tbody tr th {\n",
       "        vertical-align: top;\n",
       "    }\n",
       "\n",
       "    .dataframe thead th {\n",
       "        text-align: right;\n",
       "    }\n",
       "</style>\n",
       "<table border=\"1\" class=\"dataframe\">\n",
       "  <thead>\n",
       "    <tr style=\"text-align: right;\">\n",
       "      <th></th>\n",
       "      <th>Country</th>\n",
       "      <th>Number of leprosy cases in 2017</th>\n",
       "    </tr>\n",
       "  </thead>\n",
       "  <tbody>\n",
       "    <tr>\n",
       "      <th>0</th>\n",
       "      <td>Afghanistan</td>\n",
       "      <td>45</td>\n",
       "    </tr>\n",
       "    <tr>\n",
       "      <th>3</th>\n",
       "      <td>Andorra</td>\n",
       "      <td>0</td>\n",
       "    </tr>\n",
       "    <tr>\n",
       "      <th>4</th>\n",
       "      <td>Angola</td>\n",
       "      <td>605</td>\n",
       "    </tr>\n",
       "    <tr>\n",
       "      <th>5</th>\n",
       "      <td>Antigua and Barbuda</td>\n",
       "      <td>0</td>\n",
       "    </tr>\n",
       "    <tr>\n",
       "      <th>6</th>\n",
       "      <td>Argentina</td>\n",
       "      <td>250</td>\n",
       "    </tr>\n",
       "  </tbody>\n",
       "</table>\n",
       "</div>"
      ],
      "text/plain": [
       "               Country  Number of leprosy cases in 2017\n",
       "0          Afghanistan                               45\n",
       "3              Andorra                                0\n",
       "4               Angola                              605\n",
       "5  Antigua and Barbuda                                0\n",
       "6            Argentina                              250"
      ]
     },
     "execution_count": 14,
     "metadata": {},
     "output_type": "execute_result"
    }
   ],
   "source": [
    "#replaces the Country values, in order to match the values from the GDP_database_df\n",
    "\n",
    "discrepancies_dictionary \n",
    "leprosy_database_df['Country'] = leprosy_database_df['Country'].replace(discrepancies_dictionary)\n",
    "\n",
    "leprosy_database_df.head()"
   ]
  },
  {
   "cell_type": "code",
   "execution_count": 15,
   "metadata": {},
   "outputs": [
    {
     "data": {
      "text/html": [
       "<div>\n",
       "<style scoped>\n",
       "    .dataframe tbody tr th:only-of-type {\n",
       "        vertical-align: middle;\n",
       "    }\n",
       "\n",
       "    .dataframe tbody tr th {\n",
       "        vertical-align: top;\n",
       "    }\n",
       "\n",
       "    .dataframe thead th {\n",
       "        text-align: right;\n",
       "    }\n",
       "</style>\n",
       "<table border=\"1\" class=\"dataframe\">\n",
       "  <thead>\n",
       "    <tr style=\"text-align: right;\">\n",
       "      <th></th>\n",
       "      <th>Country</th>\n",
       "    </tr>\n",
       "  </thead>\n",
       "  <tbody>\n",
       "    <tr>\n",
       "      <th>98</th>\n",
       "      <td>Niue</td>\n",
       "    </tr>\n",
       "  </tbody>\n",
       "</table>\n",
       "</div>"
      ],
      "text/plain": [
       "   Country\n",
       "98    Niue"
      ]
     },
     "execution_count": 15,
     "metadata": {},
     "output_type": "execute_result"
    }
   ],
   "source": [
    "#as in one of the cells above, the code in this cell is the same. The code lists Country for which there is still \n",
    "#no GDP data, that country will be dropped later on, when performing a merge.\n",
    "\n",
    "leprosy_database_df_and_GDP_database_df_missmatched_data_df = leprosy_database_df.merge(GDP_database_df,\n",
    "         on=['Country'],\n",
    "         how='left',\n",
    "         indicator=True).query('_merge == \"left_only\"').drop({'_merge', 'Number of leprosy cases in 2017', \n",
    "                                                              'GDP in 2017 (millions of US Dollars)'}, 1)\n",
    "\n",
    "leprosy_database_df_and_GDP_database_df_missmatched_data_df"
   ]
  },
  {
   "attachments": {},
   "cell_type": "markdown",
   "metadata": {},
   "source": [
    "#### 5. Identifing and handle inconsistent or dirty data"
   ]
  },
  {
   "attachments": {},
   "cell_type": "markdown",
   "metadata": {},
   "source": [
    "<p>At the level of the cell <u>&quot;In [8]&quot; </u>in this notebook, I found Congo and Micronesia to appear duplicated.</p>\n",
    "\n",
    "<p>For Congo, I used Wikipedia to confirm that there are indeed separate countries with &quot;Congo&quot; in its name.</p>\n",
    "\n",
    "<p>&quot;Democratic Republic of the Congo&quot; and &quot;Republic of the Congo&quot;. I decided against renaming it and checked if GDP figures were approximately matching those from Wikipedia, that to make sure they were not mistyped.</p>\n",
    "\n",
    "<p>&quot;Congo&quot; from the database matches &quot;Republic of the Congo&quot;, and &quot;Dem. Rep. of the Congo&quot; from the database matches &quot;Democratic Republic of the Congo&quot;; which makes sense, as many countries have longer names, e.g. Austria being officially &quot;the Republic of Austria&quot;, but that&#39;s not how they were named in the WHO database.</p>\n",
    "\n",
    "<p>For Micronesia - I used Wikipedia to learn that this name can refer to both Federated States of Micronesia or region. The region row was dropped in the cell <u>&quot;In [9]&quot;</u> together with other regions.</p>\n"
   ]
  },
  {
   "attachments": {},
   "cell_type": "markdown",
   "metadata": {},
   "source": [
    "#### 6. Putting the data into an appropriate form for plotting"
   ]
  },
  {
   "cell_type": "code",
   "execution_count": 16,
   "metadata": {},
   "outputs": [
    {
     "data": {
      "text/html": [
       "<div>\n",
       "<style scoped>\n",
       "    .dataframe tbody tr th:only-of-type {\n",
       "        vertical-align: middle;\n",
       "    }\n",
       "\n",
       "    .dataframe tbody tr th {\n",
       "        vertical-align: top;\n",
       "    }\n",
       "\n",
       "    .dataframe thead th {\n",
       "        text-align: right;\n",
       "    }\n",
       "</style>\n",
       "<table border=\"1\" class=\"dataframe\">\n",
       "  <thead>\n",
       "    <tr style=\"text-align: right;\">\n",
       "      <th></th>\n",
       "      <th>Country</th>\n",
       "      <th>Number of leprosy cases in 2017</th>\n",
       "      <th>GDP in 2017 (millions of US Dollars)</th>\n",
       "    </tr>\n",
       "  </thead>\n",
       "  <tbody>\n",
       "    <tr>\n",
       "      <th>0</th>\n",
       "      <td>Afghanistan</td>\n",
       "      <td>45</td>\n",
       "      <td>21993.0</td>\n",
       "    </tr>\n",
       "    <tr>\n",
       "      <th>1</th>\n",
       "      <td>Andorra</td>\n",
       "      <td>0</td>\n",
       "      <td>3013.0</td>\n",
       "    </tr>\n",
       "    <tr>\n",
       "      <th>2</th>\n",
       "      <td>Angola</td>\n",
       "      <td>605</td>\n",
       "      <td>126506.0</td>\n",
       "    </tr>\n",
       "    <tr>\n",
       "      <th>3</th>\n",
       "      <td>Antigua and Barbuda</td>\n",
       "      <td>0</td>\n",
       "      <td>1510.0</td>\n",
       "    </tr>\n",
       "    <tr>\n",
       "      <th>4</th>\n",
       "      <td>Argentina</td>\n",
       "      <td>250</td>\n",
       "      <td>637486.0</td>\n",
       "    </tr>\n",
       "  </tbody>\n",
       "</table>\n",
       "</div>"
      ],
      "text/plain": [
       "               Country  Number of leprosy cases in 2017  \\\n",
       "0          Afghanistan                               45   \n",
       "1              Andorra                                0   \n",
       "2               Angola                              605   \n",
       "3  Antigua and Barbuda                                0   \n",
       "4            Argentina                              250   \n",
       "\n",
       "   GDP in 2017 (millions of US Dollars)  \n",
       "0                               21993.0  \n",
       "1                                3013.0  \n",
       "2                              126506.0  \n",
       "3                                1510.0  \n",
       "4                              637486.0  "
      ]
     },
     "execution_count": 16,
     "metadata": {},
     "output_type": "execute_result"
    }
   ],
   "source": [
    "#merges the df\n",
    "\n",
    "plotting_data_df = leprosy_database_df.merge(GDP_database_df,\n",
    "         on=['Country'],\n",
    "         how='left',\n",
    "         indicator=True).query('_merge == \"both\"').drop({'_merge'}, 1)\n",
    "\n",
    "plotting_data_df.head()"
   ]
  },
  {
   "attachments": {},
   "cell_type": "markdown",
   "metadata": {},
   "source": [
    "#### 7. Visualising the data"
   ]
  },
  {
   "cell_type": "code",
   "execution_count": 17,
   "metadata": {},
   "outputs": [
    {
     "data": {
      "text/plain": [
       "<matplotlib.axes._subplots.AxesSubplot at 0x7f14190b24a8>"
      ]
     },
     "execution_count": 17,
     "metadata": {},
     "output_type": "execute_result"
    },
    {
     "data": {
      "image/png": "[encoded data removed]",
      "text/plain": [
       "<Figure size 1152x1152 with 1 Axes>"
      ]
     },
     "metadata": {},
     "output_type": "display_data"
    }
   ],
   "source": [
    " plotting_data_df.plot.scatter(x='GDP in 2017 (millions of US Dollars)', \n",
    "                              y='Number of leprosy cases in 2017',\n",
    "                              title=\"The relationship between the number of leprosy cases and a country\\'s GDP for all countries in the year 2017\",\n",
    "                              logx=False, \n",
    "                              figsize=(16,16),\n",
    "                              grid=True)"
   ]
  },
  {
   "cell_type": "code",
   "execution_count": 18,
   "metadata": {},
   "outputs": [],
   "source": [
    "#assigns 10 most affected countries to a variable\n",
    "leprosy_ten_most_affected_countries_df = plotting_data_df.sort_values('Number of leprosy cases in 2017').tail(10)\n",
    "grouped = leprosy_ten_most_affected_countries_df.groupby('Country')"
   ]
  },
  {
   "cell_type": "code",
   "execution_count": 19,
   "metadata": {},
   "outputs": [],
   "source": [
    "#sets variables necessary for below plot\n",
    "legendpatch_list = []\n",
    "colours = {'Indonesia':'red',\n",
    "           'Brazil':'green',\n",
    "           'India':'blue',\n",
    "           'Bangladesh':'black',\n",
    "           'Dem. Rep. of the Congo':'yellow',\n",
    "           'Nepal':'magenta',\n",
    "           'Ethiopia':'cyan',\n",
    "           'Nigeria':'pink',\n",
    "           'Myanmar':'orange',\n",
    "           'United Rep. of Tanzania':'violet'}"
   ]
  },
  {
   "cell_type": "code",
   "execution_count": 20,
   "metadata": {},
   "outputs": [
    {
     "data": {
      "text/plain": [
       "<matplotlib.legend.Legend at 0x7f1418f81f28>"
      ]
     },
     "execution_count": 20,
     "metadata": {},
     "output_type": "execute_result"
    },
    {
     "data": {
      "image/png": "[encoded data removed]",
      "text/plain": [
       "<Figure size 1152x576 with 1 Axes>"
      ]
     },
     "metadata": {},
     "output_type": "display_data"
    }
   ],
   "source": [
    "fig, ax = plt.subplots()\n",
    "\n",
    "for key, group in grouped:\n",
    "    legendpatch_list = legendpatch_list+([mpatches.Patch(color=colours[key], label=key)]) \n",
    "    group.plot.scatter(ax=ax,\n",
    "                       x='GDP in 2017 (millions of US Dollars)', \n",
    "                       y='Number of leprosy cases in 2017', \n",
    "                       title=\"Countries which had the highest number of leprosy cases per GDP in the year 2017.\",\n",
    "                       s=400, #setting the points to be bigger, therefore making the colours more readable\n",
    "                       c=colours[key],\n",
    "                       ylim=[leprosy_ten_most_affected_countries_df['Number of leprosy cases in 2017'] \\\n",
    "                             .min()*0.01, plotting_data_df['Number of leprosy cases in 2017'].max()*1.05],\n",
    "                       figsize=(16,8))\n",
    "\n",
    "plt.legend(handles=legendpatch_list, loc=(0.8,0.05)) #the location of the legend in not above location on any data points."
   ]
  },
  {
   "attachments": {},
   "cell_type": "markdown",
   "metadata": {},
   "source": [
    "#### 8. Interpret your plot"
   ]
  },
  {
   "attachments": {},
   "cell_type": "markdown",
   "metadata": {},
   "source": [
    "From the graph I cannot see neither a strong positive nor negavtive correlation between country's GDP and leprosy cases. I decided to use python to check as well:"
   ]
  },
  {
   "cell_type": "code",
   "execution_count": 21,
   "metadata": {},
   "outputs": [
    {
     "data": {
      "text/plain": [
       "0.8499890363832343"
      ]
     },
     "execution_count": 21,
     "metadata": {},
     "output_type": "execute_result"
    }
   ],
   "source": [
    "#for ten most affected countries\n",
    "leprosy_ten_most_affected_countries_df['Number of leprosy cases in 2017']. \\\n",
    "corr(leprosy_ten_most_affected_countries_df['GDP in 2017 (millions of US Dollars)'])"
   ]
  },
  {
   "cell_type": "code",
   "execution_count": 22,
   "metadata": {},
   "outputs": [
    {
     "data": {
      "text/plain": [
       "0.10221655921766384"
      ]
     },
     "execution_count": 22,
     "metadata": {},
     "output_type": "execute_result"
    }
   ],
   "source": [
    "#and for all the cointries\n",
    "plotting_data_df['Number of leprosy cases in 2017']. \\\n",
    "corr(plotting_data_df['GDP in 2017 (millions of US Dollars)'])"
   ]
  },
  {
   "attachments": {},
   "cell_type": "markdown",
   "metadata": {},
   "source": [
    "Perhaps other indicator, be it GDP per capita, would be more correlated to number of leprosy cases and/or leprosy cases per x number of population.\n",
    "\n",
    "Both plots seem to have outlier values when it comes to leprosy cases, but that could be explained by number of population, outbreaks etc., but not by the Gross Domestic Product alone."
   ]
  },
  {
   "attachments": {},
   "cell_type": "markdown",
   "metadata": {},
   "source": [
    "#### 9. References"
   ]
  },
  {
   "attachments": {},
   "cell_type": "markdown",
   "metadata": {},
   "source": [
    "Data.un.org. (2019). [online] Available at: http://data.un.org/_Docs/SYB/CSV/SYB62_T13_201904_GDP%20and%20GDP%20Per%20Capita.csv [Accessed 1 Dec. 2019].\n",
    "\n",
    "Apps.who.int. (2019). [online] Available at: https://apps.who.int/gho/athena/data/GHO/WHS3_45?filter=COUNTRY:*&x-sideaxis=COUNTRY&x-topaxis=GHO;YEAR&profile=crosstable&format=csv [Accessed 1 Dec. 2019]."
   ]
  }
 ],
 "metadata": {
  "kernelspec": {
   "display_name": "Python 3",
   "language": "python",
   "name": "python3"
  },
  "language_info": {
   "codemirror_mode": {
    "name": "ipython",
    "version": 3
   },
   "file_extension": ".py",
   "mimetype": "text/x-python",
   "name": "python",
   "nbconvert_exporter": "python",
   "pygments_lexer": "ipython3",
   "version": "3.5.2"
  }
 },
 "nbformat": 4,
 "nbformat_minor": 2
}
